{
 "cells": [
  {
   "cell_type": "code",
   "execution_count": 3,
   "id": "2be20f36",
   "metadata": {},
   "outputs": [],
   "source": [
    "import numpy as np\n",
    "import gzip\n",
    "import matplotlib.pyplot as plt\n",
    "import time\n",
    "import collections\n",
    "import torch"
   ]
  },
  {
   "cell_type": "code",
   "execution_count": null,
   "id": "dc6a7f33",
   "metadata": {},
   "outputs": [],
   "source": [
    "class printLoss:\n",
    "    '''plot datapoints'''\n",
    "    def __init__(self, x_label=None, y_label=None, X_lim=None\n",
    "                y_lim=None, x_scale='linear', y_scale='linear',\n",
    "                ls=['-', '--', '-,', ':'], colors=['c0', 'c1', 'c2', 'c3',],\n",
    "                fig=None, axes=None, figsize=(3.5, 2.5), display=True):\n",
    "        \n",
    "    def draw(self, x, y, label, refresh=1):\n"
   ]
  },
  {
   "cell_type": "code",
   "execution_count": 5,
   "id": "4f13a6c3",
   "metadata": {},
   "outputs": [],
   "source": [
    "def fetchmnist():\n",
    "    X_train = gzip.open(\"../datasets/mnist/train-images-idx3-ubyte.gz\").read()\n",
    "    X_train = np.frombuffer(X_train, dtype=np.uint8)[0x10:].reshape((-1, 28, 28)).astype(np.float32)\n",
    "    \n",
    "    Y_train = gzip.open(\"../datasets/mnist/train-labels-idx1-ubyte.gz\").read()\n",
    "    Y_train = np.frombuffer(Y_train, dtype=np.uint8)[8:]\n",
    "    \n",
    "    X_test = gzip.open(\"../datasets/mnist/train-images-idx3-ubyte.gz\").read()\n",
    "    X_test = np.frombuffer(X_train, dtype=np.uint8).reshape((-1, 28, 28)).astype(np.float32)\n",
    "    \n",
    "    Y_test = gzip.open(\"../datasets/mnist/train-labels-idx1-ubyte.gz\").read()\n",
    "    Y_test = np.frombuffer(Y_train, dtype=np.uint8)\n",
    "    return X_train, Y_train, X_test, Y_test"
   ]
  },
  {
   "cell_type": "code",
   "execution_count": 6,
   "id": "1b6d0bb8",
   "metadata": {},
   "outputs": [],
   "source": [
    "X_train, Y_train, X_test, Y_test = fetchmnist()"
   ]
  },
  {
   "cell_type": "code",
   "execution_count": 7,
   "id": "6ed7eec6",
   "metadata": {},
   "outputs": [],
   "source": [
    "def ReLU(x):\n",
    "    a = np.zeros_like(x)\n",
    "    return np.maximum(x, a)"
   ]
  },
  {
   "cell_type": "code",
   "execution_count": 8,
   "id": "c7ea46c4",
   "metadata": {},
   "outputs": [],
   "source": [
    "def softmax(x):\n",
    "    return [(np.exp(i) / np.sum(np.exp(x))) for i in x]"
   ]
  },
  {
   "cell_type": "code",
   "execution_count": 9,
   "id": "9dc23566",
   "metadata": {},
   "outputs": [],
   "source": [
    "class MLP:\n",
    "    def __init__(num_inputs, num_outputs, num_hidde):\n",
    "        self.num_inputs = num_inputs\n",
    "        self.num_outputs = num_outputs\n",
    "        self.num_hidden = num_hidden\n",
    "        \n",
    "        self.w1 = np.random.randn(num_inputs, num_hidden)\n",
    "        self.b1 = np.random.randn(num_hidden, 1)\n",
    "        self.w2 = np.random.randn(num_hidden, num_hidden)\n",
    "        self.b2 = np.random.randn(num_hidden, 1)\n",
    "        self.w3 = np.random.randn(num_hidden, num_outputs)\n",
    "        self.b3 = np.random.randn(num_outputs)\n",
    "        \n",
    "    def forward(self, X):\n",
    "        X.reshape(784, -1)\n",
    "        h1 = X @ self.w1 + self.b1\n",
    "        h2 = h1 @ self.w2 + self.b2\n",
    "        out = h2 @ self.w3 + self.b3\n",
    "        return out"
   ]
  },
  {
   "cell_type": "code",
   "execution_count": 13,
   "id": "8aa93aa8",
   "metadata": {},
   "outputs": [],
   "source": [
    "def CrossEntropyLoss(y_hat, y):\n",
    "    return -np.log(y_hat[range(len(y_hat)), y]).mean()"
   ]
  },
  {
   "cell_type": "code",
   "execution_count": 17,
   "id": "06c44e33",
   "metadata": {},
   "outputs": [],
   "source": [
    "class SGD:\n",
    "    def __init__(self, params, lr):\n",
    "        self.params = params\n",
    "        self.lr = self.lr\n",
    "        \n",
    "    def step(self):\n",
    "        for param in self.params:\n",
    "             param -= self.lr * param.grad\n",
    "    \n",
    "    def zero_grad(self):\n",
    "        param.grad = [0 for param in params]"
   ]
  },
  {
   "cell_type": "code",
   "execution_count": null,
   "id": "4422401a",
   "metadata": {},
   "outputs": [],
   "source": [
    "num_epochs = 10\n",
    "lr = 0.01\n",
    "loss = CrossEntropyLoss()\n",
    "optim = SGD()\n",
    "net = MLP()\n",
    "\n",
    "for i in range(num_epochs):\n",
    "    for X, y in zip(X_train, Y_train):\n",
    "        optim.zero_grad()\n",
    "        y_hat = net(X)\n",
    "        l = loss(y_hat, y)\n",
    "        l.backward()\n",
    "        optim.step()"
   ]
  }
 ],
 "metadata": {
  "kernelspec": {
   "display_name": "Python 3 (ipykernel)",
   "language": "python",
   "name": "python3"
  },
  "language_info": {
   "codemirror_mode": {
    "name": "ipython",
    "version": 3
   },
   "file_extension": ".py",
   "mimetype": "text/x-python",
   "name": "python",
   "nbconvert_exporter": "python",
   "pygments_lexer": "ipython3",
   "version": "3.9.7"
  }
 },
 "nbformat": 4,
 "nbformat_minor": 5
}
