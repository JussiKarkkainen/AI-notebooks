{
  "nbformat": 4,
  "nbformat_minor": 0,
  "metadata": {
    "colab": {
      "provenance": []
    },
    "kernelspec": {
      "name": "python3",
      "display_name": "Python 3"
    },
    "language_info": {
      "name": "python"
    }
  },
  "cells": [
    {
      "cell_type": "code",
      "execution_count": null,
      "metadata": {
        "id": "oBqkQ_WfWOir"
      },
      "outputs": [],
      "source": [
        "import torch\n",
        "import torchvision\n",
        "import torch.nn as nn"
      ]
    },
    {
      "cell_type": "code",
      "source": [],
      "metadata": {
        "id": "1SMxQkbvXjA1"
      },
      "execution_count": null,
      "outputs": []
    },
    {
      "cell_type": "code",
      "source": [
        "class ResNetBlock(nn.Module):\n",
        "    def __init__(self):\n",
        "        super().__init__()\n",
        "        pass\n",
        "\n",
        "    def forward(self, x):\n",
        "        pass"
      ],
      "metadata": {
        "id": "elXIRaX3WVBY"
      },
      "execution_count": null,
      "outputs": []
    },
    {
      "cell_type": "code",
      "source": [
        "class ResNet18(nn.Module):\n",
        "    def __init__(self):\n",
        "        super().__init__()\n",
        "        pass\n",
        "\n",
        "    def forward(self, x):\n",
        "        pass"
      ],
      "metadata": {
        "id": "lGs-FIQoWeDd"
      },
      "execution_count": null,
      "outputs": []
    },
    {
      "cell_type": "code",
      "source": [
        "lossfn = nn.CrossEntropyLoss()\n",
        "num_epochs = 10\n",
        "net = ResNet18()\n",
        "optim = torch.optim.SGD(net.parameters, lr=1e-3)\n",
        "\n",
        "for i in range(num_epochs):\n",
        "    epoch_loss = 0\n",
        "    for x, y in dataloader:\n",
        "        y_hat = net(x)\n",
        "        loss = lossfn(y_hat, y)\n",
        "        optim.zero_grad()\n",
        "        loss.backward()\n",
        "        optim.step()\n",
        "        epoch_loss += loss\n",
        "    print(\"Loss on epoch {i} was {epoch_loss}\")\n"
      ],
      "metadata": {
        "id": "DlN8AUh7WoNc"
      },
      "execution_count": null,
      "outputs": []
    }
  ]
}