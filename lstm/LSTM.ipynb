{
  "nbformat": 4,
  "nbformat_minor": 0,
  "metadata": {
    "colab": {
      "provenance": []
    },
    "kernelspec": {
      "name": "python3",
      "display_name": "Python 3"
    },
    "language_info": {
      "name": "python"
    }
  },
  "cells": [
    {
      "cell_type": "code",
      "execution_count": 91,
      "metadata": {
        "id": "e72SSe3aJzfT"
      },
      "outputs": [],
      "source": [
        "import torch\n",
        "import torch.nn as nn\n",
        "import torch.nn.functional as F\n",
        "from google.colab import files\n",
        "import numpy as np"
      ]
    },
    {
      "cell_type": "code",
      "source": [
        "uploaded = files.upload()"
      ],
      "metadata": {
        "colab": {
          "base_uri": "https://localhost:8080/",
          "height": 75
        },
        "id": "txn8Fg__k3yi",
        "outputId": "73c37f41-1688-4abf-b1b0-82e1c42b057b"
      },
      "execution_count": 15,
      "outputs": [
        {
          "output_type": "display_data",
          "data": {
            "text/plain": [
              "<IPython.core.display.HTML object>"
            ],
            "text/html": [
              "\n",
              "     <input type=\"file\" id=\"files-5e2a11cf-49ec-4c60-b62a-5a73b27861ea\" name=\"files[]\" multiple disabled\n",
              "        style=\"border:none\" />\n",
              "     <output id=\"result-5e2a11cf-49ec-4c60-b62a-5a73b27861ea\">\n",
              "      Upload widget is only available when the cell has been executed in the\n",
              "      current browser session. Please rerun this cell to enable.\n",
              "      </output>\n",
              "      <script>// Copyright 2017 Google LLC\n",
              "//\n",
              "// Licensed under the Apache License, Version 2.0 (the \"License\");\n",
              "// you may not use this file except in compliance with the License.\n",
              "// You may obtain a copy of the License at\n",
              "//\n",
              "//      http://www.apache.org/licenses/LICENSE-2.0\n",
              "//\n",
              "// Unless required by applicable law or agreed to in writing, software\n",
              "// distributed under the License is distributed on an \"AS IS\" BASIS,\n",
              "// WITHOUT WARRANTIES OR CONDITIONS OF ANY KIND, either express or implied.\n",
              "// See the License for the specific language governing permissions and\n",
              "// limitations under the License.\n",
              "\n",
              "/**\n",
              " * @fileoverview Helpers for google.colab Python module.\n",
              " */\n",
              "(function(scope) {\n",
              "function span(text, styleAttributes = {}) {\n",
              "  const element = document.createElement('span');\n",
              "  element.textContent = text;\n",
              "  for (const key of Object.keys(styleAttributes)) {\n",
              "    element.style[key] = styleAttributes[key];\n",
              "  }\n",
              "  return element;\n",
              "}\n",
              "\n",
              "// Max number of bytes which will be uploaded at a time.\n",
              "const MAX_PAYLOAD_SIZE = 100 * 1024;\n",
              "\n",
              "function _uploadFiles(inputId, outputId) {\n",
              "  const steps = uploadFilesStep(inputId, outputId);\n",
              "  const outputElement = document.getElementById(outputId);\n",
              "  // Cache steps on the outputElement to make it available for the next call\n",
              "  // to uploadFilesContinue from Python.\n",
              "  outputElement.steps = steps;\n",
              "\n",
              "  return _uploadFilesContinue(outputId);\n",
              "}\n",
              "\n",
              "// This is roughly an async generator (not supported in the browser yet),\n",
              "// where there are multiple asynchronous steps and the Python side is going\n",
              "// to poll for completion of each step.\n",
              "// This uses a Promise to block the python side on completion of each step,\n",
              "// then passes the result of the previous step as the input to the next step.\n",
              "function _uploadFilesContinue(outputId) {\n",
              "  const outputElement = document.getElementById(outputId);\n",
              "  const steps = outputElement.steps;\n",
              "\n",
              "  const next = steps.next(outputElement.lastPromiseValue);\n",
              "  return Promise.resolve(next.value.promise).then((value) => {\n",
              "    // Cache the last promise value to make it available to the next\n",
              "    // step of the generator.\n",
              "    outputElement.lastPromiseValue = value;\n",
              "    return next.value.response;\n",
              "  });\n",
              "}\n",
              "\n",
              "/**\n",
              " * Generator function which is called between each async step of the upload\n",
              " * process.\n",
              " * @param {string} inputId Element ID of the input file picker element.\n",
              " * @param {string} outputId Element ID of the output display.\n",
              " * @return {!Iterable<!Object>} Iterable of next steps.\n",
              " */\n",
              "function* uploadFilesStep(inputId, outputId) {\n",
              "  const inputElement = document.getElementById(inputId);\n",
              "  inputElement.disabled = false;\n",
              "\n",
              "  const outputElement = document.getElementById(outputId);\n",
              "  outputElement.innerHTML = '';\n",
              "\n",
              "  const pickedPromise = new Promise((resolve) => {\n",
              "    inputElement.addEventListener('change', (e) => {\n",
              "      resolve(e.target.files);\n",
              "    });\n",
              "  });\n",
              "\n",
              "  const cancel = document.createElement('button');\n",
              "  inputElement.parentElement.appendChild(cancel);\n",
              "  cancel.textContent = 'Cancel upload';\n",
              "  const cancelPromise = new Promise((resolve) => {\n",
              "    cancel.onclick = () => {\n",
              "      resolve(null);\n",
              "    };\n",
              "  });\n",
              "\n",
              "  // Wait for the user to pick the files.\n",
              "  const files = yield {\n",
              "    promise: Promise.race([pickedPromise, cancelPromise]),\n",
              "    response: {\n",
              "      action: 'starting',\n",
              "    }\n",
              "  };\n",
              "\n",
              "  cancel.remove();\n",
              "\n",
              "  // Disable the input element since further picks are not allowed.\n",
              "  inputElement.disabled = true;\n",
              "\n",
              "  if (!files) {\n",
              "    return {\n",
              "      response: {\n",
              "        action: 'complete',\n",
              "      }\n",
              "    };\n",
              "  }\n",
              "\n",
              "  for (const file of files) {\n",
              "    const li = document.createElement('li');\n",
              "    li.append(span(file.name, {fontWeight: 'bold'}));\n",
              "    li.append(span(\n",
              "        `(${file.type || 'n/a'}) - ${file.size} bytes, ` +\n",
              "        `last modified: ${\n",
              "            file.lastModifiedDate ? file.lastModifiedDate.toLocaleDateString() :\n",
              "                                    'n/a'} - `));\n",
              "    const percent = span('0% done');\n",
              "    li.appendChild(percent);\n",
              "\n",
              "    outputElement.appendChild(li);\n",
              "\n",
              "    const fileDataPromise = new Promise((resolve) => {\n",
              "      const reader = new FileReader();\n",
              "      reader.onload = (e) => {\n",
              "        resolve(e.target.result);\n",
              "      };\n",
              "      reader.readAsArrayBuffer(file);\n",
              "    });\n",
              "    // Wait for the data to be ready.\n",
              "    let fileData = yield {\n",
              "      promise: fileDataPromise,\n",
              "      response: {\n",
              "        action: 'continue',\n",
              "      }\n",
              "    };\n",
              "\n",
              "    // Use a chunked sending to avoid message size limits. See b/62115660.\n",
              "    let position = 0;\n",
              "    do {\n",
              "      const length = Math.min(fileData.byteLength - position, MAX_PAYLOAD_SIZE);\n",
              "      const chunk = new Uint8Array(fileData, position, length);\n",
              "      position += length;\n",
              "\n",
              "      const base64 = btoa(String.fromCharCode.apply(null, chunk));\n",
              "      yield {\n",
              "        response: {\n",
              "          action: 'append',\n",
              "          file: file.name,\n",
              "          data: base64,\n",
              "        },\n",
              "      };\n",
              "\n",
              "      let percentDone = fileData.byteLength === 0 ?\n",
              "          100 :\n",
              "          Math.round((position / fileData.byteLength) * 100);\n",
              "      percent.textContent = `${percentDone}% done`;\n",
              "\n",
              "    } while (position < fileData.byteLength);\n",
              "  }\n",
              "\n",
              "  // All done.\n",
              "  yield {\n",
              "    response: {\n",
              "      action: 'complete',\n",
              "    }\n",
              "  };\n",
              "}\n",
              "\n",
              "scope.google = scope.google || {};\n",
              "scope.google.colab = scope.google.colab || {};\n",
              "scope.google.colab._files = {\n",
              "  _uploadFiles,\n",
              "  _uploadFilesContinue,\n",
              "};\n",
              "})(self);\n",
              "</script> "
            ]
          },
          "metadata": {}
        },
        {
          "output_type": "stream",
          "name": "stdout",
          "text": [
            "Saving ptb.train.txt to ptb.train (1).txt\n"
          ]
        }
      ]
    },
    {
      "cell_type": "code",
      "source": [
        "with open(\"ptb.train.txt\", 'r') as f:\n",
        "    lines = f.readlines()\n"
      ],
      "metadata": {
        "id": "oGi6qjyVsN8R"
      },
      "execution_count": 24,
      "outputs": []
    },
    {
      "cell_type": "code",
      "source": [
        "def get_tokens():\n",
        "    tokens = [list(line) for line in lines]\n",
        "    return tokens\n",
        "\n",
        "token = get_tokens()"
      ],
      "metadata": {
        "id": "kaf9lclCt7aQ"
      },
      "execution_count": 28,
      "outputs": []
    },
    {
      "cell_type": "code",
      "source": [
        "def flatten(tokens):\n",
        "    return [items for i in tokens for items in i]\n",
        "\n",
        "tokens = flatten(token)\n",
        "print(tokens[:100])"
      ],
      "metadata": {
        "colab": {
          "base_uri": "https://localhost:8080/"
        },
        "id": "kyEGooUJt_Sl",
        "outputId": "64b02bb3-9ec8-439f-ea2f-83dc3c8f4b88"
      },
      "execution_count": 31,
      "outputs": [
        {
          "output_type": "stream",
          "name": "stdout",
          "text": [
            "[' ', 'a', 'e', 'r', ' ', 'b', 'a', 'n', 'k', 'n', 'o', 't', 'e', ' ', 'b', 'e', 'r', 'l', 'i', 't', 'z', ' ', 'c', 'a', 'l', 'l', 'o', 'w', 'a', 'y', ' ', 'c', 'e', 'n', 't', 'r', 'u', 's', 't', ' ', 'c', 'l', 'u', 'e', 't', 't', ' ', 'f', 'r', 'o', 'm', 's', 't', 'e', 'i', 'n', ' ', 'g', 'i', 't', 'a', 'n', 'o', ' ', 'g', 'u', 't', 'e', 'r', 'm', 'a', 'n', ' ', 'h', 'y', 'd', 'r', 'o', '-', 'q', 'u', 'e', 'b', 'e', 'c', ' ', 'i', 'p', 'o', ' ', 'k', 'i', 'a', ' ', 'm', 'e', 'm', 'o', 't', 'e']\n"
          ]
        }
      ]
    },
    {
      "cell_type": "code",
      "source": [
        "def unique_char(tokens):\n",
        "    uniq_tokens = []\n",
        "    for i in tokens:\n",
        "        if i not in uniq_tokens:\n",
        "            uniq_tokens.append(i)\n",
        "    return uniq_tokens\n",
        "\n",
        "\n",
        "uniq_tokens = unique_char(tokens)\n",
        "print(len(uniq_tokens))"
      ],
      "metadata": {
        "colab": {
          "base_uri": "https://localhost:8080/"
        },
        "id": "Myadm3rsuJ7L",
        "outputId": "8ca8b902-f6b0-4a9f-c331-689579002563"
      },
      "execution_count": 30,
      "outputs": [
        {
          "output_type": "stream",
          "name": "stdout",
          "text": [
            "50\n"
          ]
        }
      ]
    },
    {
      "cell_type": "code",
      "source": [
        "vocab = {}\n",
        "for e, char in enumerate(uniq_tokens):\n",
        "    vocab[char] = e\n",
        "\n",
        "vocab"
      ],
      "metadata": {
        "id": "jVRSyMOMuazc"
      },
      "execution_count": null,
      "outputs": []
    },
    {
      "cell_type": "code",
      "source": [
        "numerical = [vocab[char] for char in tokens]\n",
        "len(numerical)"
      ],
      "metadata": {
        "colab": {
          "base_uri": "https://localhost:8080/"
        },
        "id": "M4V9S79TuloF",
        "outputId": "7c27e3c7-00a4-4646-b427-c0b082d817aa"
      },
      "execution_count": 35,
      "outputs": [
        {
          "output_type": "execute_result",
          "data": {
            "text/plain": [
              "5101619"
            ]
          },
          "metadata": {},
          "execution_count": 35
        }
      ]
    },
    {
      "cell_type": "code",
      "source": [
        "def one_hot_data(numerical_list, vocab_size=50):\n",
        "    result = torch.zeros((len(numerical_list), vocab_size))\n",
        "    for i, idx in enumerate(numerical_list):\n",
        "        result[i, idx] = 1.0\n",
        "    return result"
      ],
      "metadata": {
        "id": "ZYNWnD5wwRvH"
      },
      "execution_count": 36,
      "outputs": []
    },
    {
      "cell_type": "code",
      "source": [
        "seq_length = 64\n",
        "num_samples = (len(numerical) - 1) // seq_length\n",
        "dataset = one_hot_data(numerical[:num_samples * seq_length]).reshape(num_samples, seq_length, len(uniq_tokens))\n",
        "dataset.shape"
      ],
      "metadata": {
        "colab": {
          "base_uri": "https://localhost:8080/"
        },
        "id": "AWjqIrv8wVMV",
        "outputId": "021ce43e-f464-4b4a-c851-6e7d53c74135"
      },
      "execution_count": 38,
      "outputs": [
        {
          "output_type": "execute_result",
          "data": {
            "text/plain": [
              "torch.Size([79712, 64, 50])"
            ]
          },
          "metadata": {},
          "execution_count": 38
        }
      ]
    },
    {
      "cell_type": "code",
      "source": [
        "batch_size = 32\n",
        "num_batches = len(dataset) // batch_size\n",
        "train_iter = dataset[:num_batches * batch_size].reshape((batch_size, num_batches, seq_length, len(uniq_tokens)))\n",
        "train_iter = train_iter.swapaxes(0, 1)\n",
        "train_iter = train_iter.swapaxes(1, 2)\n",
        "train_iter.shape"
      ],
      "metadata": {
        "colab": {
          "base_uri": "https://localhost:8080/"
        },
        "id": "0CsECpOzwle1",
        "outputId": "7e3b1fa6-92e3-4007-c2f8-b5644235ac53"
      },
      "execution_count": 39,
      "outputs": [
        {
          "output_type": "execute_result",
          "data": {
            "text/plain": [
              "torch.Size([2491, 64, 32, 50])"
            ]
          },
          "metadata": {},
          "execution_count": 39
        }
      ]
    },
    {
      "cell_type": "code",
      "source": [
        "labels = one_hot_data(numerical[1:num_samples * seq_length + 1]).reshape(batch_size, num_batches, seq_length, len(uniq_tokens))\n",
        "labels = labels.swapaxes(0, 1)\n",
        "labels = labels.swapaxes(1, 2)\n",
        "labels.shape"
      ],
      "metadata": {
        "colab": {
          "base_uri": "https://localhost:8080/"
        },
        "id": "d2An7SrfwxaC",
        "outputId": "739fed6e-7524-41e3-8708-0cba67732f49"
      },
      "execution_count": 41,
      "outputs": [
        {
          "output_type": "execute_result",
          "data": {
            "text/plain": [
              "torch.Size([2491, 64, 32, 50])"
            ]
          },
          "metadata": {},
          "execution_count": 41
        }
      ]
    },
    {
      "cell_type": "code",
      "source": [
        "def textify(embedding):\n",
        "    result = \"\"\n",
        "    indices = torch.argmax(embedding, axis=1)\n",
        "    for idx in indices:\n",
        "        result += uniq_tokens[int(idx)]\n",
        "    return result"
      ],
      "metadata": {
        "id": "LjqQ0EbwxIcj"
      },
      "execution_count": 43,
      "outputs": []
    },
    {
      "cell_type": "code",
      "source": [
        "print(textify(train_iter[10, :, 3]))\n",
        "print(textify(labels[10, :, 3]))"
      ],
      "metadata": {
        "colab": {
          "base_uri": "https://localhost:8080/"
        },
        "id": "LjOAoE01xAH6",
        "outputId": "17626e4f-93b2-4648-a146-c7dc93a05ac7"
      },
      "execution_count": 44,
      "outputs": [
        {
          "output_type": "stream",
          "name": "stdout",
          "text": [
            "ell based in los angeles makes and distributes electronic comput\n",
            "ll based in los angeles makes and distributes electronic compute\n"
          ]
        }
      ]
    },
    {
      "cell_type": "code",
      "source": [
        "def get_params(vocab_size, num_hiddens):\n",
        "    # Input gate params\n",
        "    W_xi = torch.normal(0, 0.01, (vocab_size, num_hiddens), requires_grad=True)\n",
        "    W_hi = torch.normal(0, 0.01, (num_hiddens, num_hiddens), requires_grad=True)\n",
        "    b_i = torch.zeros(num_hiddens, requires_grad=True)\n",
        "    # Forget gate params\n",
        "    W_xf = torch.normal(0, 0.01, (vocab_size, num_hiddens), requires_grad=True)\n",
        "    W_hf = torch.normal(0, 0.01, (num_hiddens, num_hiddens), requires_grad=True)\n",
        "    b_f = torch.zeros(num_hiddens, requires_grad=True)\n",
        "    # Output gate params\n",
        "    W_xo = torch.normal(0, 0.01, (vocab_size, num_hiddens), requires_grad=True)\n",
        "    W_ho = torch.normal(0, 0.01, (num_hiddens, num_hiddens), requires_grad=True)\n",
        "    b_o = torch.zeros(num_hiddens, requires_grad=True)\n",
        "    # Memory cell params\n",
        "    W_xc = torch.normal(0, 0.01, (vocab_size, num_hiddens), requires_grad=True)\n",
        "    W_hc = torch.normal(0, 0.01, (num_hiddens, num_hiddens), requires_grad=True)\n",
        "    b_c = torch.zeros(num_hiddens, requires_grad=True)\n",
        "    # Output layer params\n",
        "    W_hq = torch.normal(0, 0.01, (num_hiddens, vocab_size), requires_grad=True)\n",
        "    b_q = torch.zeros(vocab_size, requires_grad=True)\n",
        "    params = [W_hi, W_xi, b_i, W_hf, W_xf, b_f, W_ho, W_xo, b_o, W_hc, W_xc, b_c, W_hq, b_q]\n",
        "    return params"
      ],
      "metadata": {
        "id": "wqIeukPHJ3-W"
      },
      "execution_count": 81,
      "outputs": []
    },
    {
      "cell_type": "code",
      "source": [
        "def init_state(batch_size, num_hiddens):\n",
        "    return (torch.zeros(batch_size, num_hiddens), torch.zeros(batch_size, num_hiddens))"
      ],
      "metadata": {
        "id": "9x9TYiZKNpXc"
      },
      "execution_count": 45,
      "outputs": []
    },
    {
      "cell_type": "code",
      "source": [
        "def lstm(inputs, state, params):\n",
        "    W_hi, W_xi, b_i, W_hf, W_xf, b_f, W_ho, W_xo, b_o, W_hc, W_xc, b_c, W_hq, b_q = params\n",
        "    outputs = []\n",
        "    H, C = state\n",
        "    for x in inputs:\n",
        "        # https://pytorch.org/docs/stable/generated/torch.nn.LSTM.html?highlight=nn+lstm#torch.nn.LSTM\n",
        "        I = torch.sigmoid((x @ W_xi) + (H @ W_hi) + b_i)\n",
        "        F = torch.sigmoid((x @ W_xf) + (H @ W_hf) + b_f)\n",
        "        O = torch.sigmoid((x @ W_xo) + (H @ W_ho) + b_o)\n",
        "        G = torch.tanh((x @ W_xc) + (H @ W_hc) + b_c)\n",
        "        C = F * C + I * G\n",
        "        H = O * torch.tanh(C)\n",
        "        Y = (H @ W_hq) + b_q\n",
        "        outputs.append(softmax(Y))\n",
        "    return torch.cat(outputs, dim=0), (H, C)"
      ],
      "metadata": {
        "id": "I__StWZMK1I1"
      },
      "execution_count": 96,
      "outputs": []
    },
    {
      "cell_type": "code",
      "source": [
        "def predict(prefix, num_chars):\n",
        "    string = prefix\n",
        "    sample_state = init_state(batch_size=32, num_hiddens=256)\n",
        "    string_numerical = [vocab[char] for char in prefix]\n",
        "    input = one_hot_data(string_numerical)\n",
        "  \n",
        "    for i in range(num_chars):\n",
        "        outputs, sample_state = lstm(input, sample_state)\n",
        "        choice = np.random.choice(50, p=fix_p(np.asarray(outputs[-1][0])))\n",
        "        string += uniq_tokens[choice]\n",
        "        input = one_hot_data([choice])\n",
        "    return string"
      ],
      "metadata": {
        "id": "cljxld_lzBM6"
      },
      "execution_count": 92,
      "outputs": []
    },
    {
      "cell_type": "code",
      "source": [
        "def fix_p(p):\n",
        "    if p.sum() != 1.0:\n",
        "        p = p*(1./p.sum())\n",
        "    return p"
      ],
      "metadata": {
        "id": "cYU_rj0iz1hF"
      },
      "execution_count": 69,
      "outputs": []
    },
    {
      "cell_type": "code",
      "source": [
        "def softmax(X):\n",
        "    lin = (X - torch.max(X).reshape((-1, 1)))\n",
        "    X_exp = torch.exp(lin)\n",
        "    partition = X_exp.sum(1, keepdim=True)\n",
        "    return X_exp / partition"
      ],
      "metadata": {
        "id": "tg8xKPb5__ol"
      },
      "execution_count": 95,
      "outputs": []
    },
    {
      "cell_type": "code",
      "source": [
        "def crossentropy(y_hat, y):\n",
        "    return -torch.mean(torch.sum(y * torch.log(y_hat)))"
      ],
      "metadata": {
        "id": "A8UGACzFyV8D"
      },
      "execution_count": 83,
      "outputs": []
    },
    {
      "cell_type": "code",
      "source": [
        "def average_ce_loss(outputs, labels):\n",
        "    assert(len(labels == len(outputs)))\n",
        "    total_loss = 0\n",
        "    for (outputs, labels) in zip(outputs, labels):\n",
        "        total_loss = total_loss + crossentropy(outputs, labels)\n",
        "    return total_loss / len(outputs)"
      ],
      "metadata": {
        "id": "UOzL6DxmyW-D"
      },
      "execution_count": 84,
      "outputs": []
    },
    {
      "cell_type": "code",
      "source": [
        "def grad_clipping(params, theta):\n",
        "    norm = torch.sqrt(sum(torch.sum((p.grad**2)) for p in params))\n",
        "    if norm > theta:\n",
        "        for param in params:\n",
        "            param.grad[:] *= theta / norm"
      ],
      "metadata": {
        "id": "MWJFErEi-iwu"
      },
      "execution_count": 89,
      "outputs": []
    },
    {
      "cell_type": "code",
      "source": [
        "num_epochs = 500\n",
        "criterion = average_ce_loss\n",
        "params = get_params(vocab_size=50, num_hiddens=256)\n",
        "lr = 0.01\n",
        "optimizer = torch.optim.SGD(params, lr)\n",
        "\n",
        "for epoch in range(num_epochs):\n",
        "    state = init_state(batch_size=32, num_hiddens=256)\n",
        "    for i in range(num_batches):\n",
        "        input = train_iter[i]\n",
        "        train_labels = labels[i]\n",
        "        state = (s.detach() for s in state)\n",
        "        optimizer.zero_grad()\n",
        "        y_hat, state = lstm(input, state, params)\n",
        "        l = criterion(y_hat, train_labels)\n",
        "        l.sum().backward()\n",
        "        grad_clipping(params, 1)\n",
        "        optimizer.step()\n",
        "\n",
        "    with torch.no_grad():\n",
        "        l_loss = criterion(y_hat, train_labels)\n",
        "        print(f'loss on epoch {epoch} was {l_loss}')\n",
        "        print(predict('how many people does it take', 256))"
      ],
      "metadata": {
        "id": "NRg0t4fGyaUe"
      },
      "execution_count": null,
      "outputs": []
    }
  ]
}