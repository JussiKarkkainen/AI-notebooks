{
  "nbformat": 4,
  "nbformat_minor": 0,
  "metadata": {
    "colab": {
      "provenance": []
    },
    "kernelspec": {
      "name": "python3",
      "display_name": "Python 3"
    },
    "language_info": {
      "name": "python"
    },
    "gpuClass": "standard"
  },
  "cells": [
    {
      "cell_type": "code",
      "source": [
        "!pip install dm-haiku\n",
        "!pip install optax"
      ],
      "metadata": {
        "id": "2bJnrOnTb_sc"
      },
      "execution_count": null,
      "outputs": []
    },
    {
      "cell_type": "code",
      "source": [
        "import jax.numpy as jnp\n",
        "import jax\n",
        "import haiku as hk\n",
        "import optax\n",
        "from typing import NamedTuple, Optional\n",
        "import skimage.transform\n",
        "import numpy as np\n",
        "import matplotlib.pyplot as plt\n",
        "from torchvision import datasets, transforms\n",
        "import torch"
      ],
      "metadata": {
        "id": "Q6_5GEVnBUWO"
      },
      "execution_count": null,
      "outputs": []
    },
    {
      "cell_type": "code",
      "source": [
        "resize = transforms.Compose([\n",
        "            transforms.ToTensor(),\n",
        "            transforms.Resize((64, 64))])\n",
        "\n",
        "\n",
        "train_dataset = datasets.MNIST(root='./mnist_data/', train=True, transform=resize, download=True)\n",
        "test_dataset = datasets.MNIST(root='./mnist_data/', train=False, transform=resize, download=False)\n",
        "\n",
        "train_loader = torch.utils.data.DataLoader(dataset=train_dataset, batch_size=128, shuffle=True)\n",
        "test_loader = torch.utils.data.DataLoader(dataset=test_dataset, batch_size=128, shuffle=False)"
      ],
      "metadata": {
        "id": "gGZCs8LTUuTw"
      },
      "execution_count": null,
      "outputs": []
    },
    {
      "cell_type": "code",
      "execution_count": null,
      "metadata": {
        "id": "rWZRsn1oAP8k"
      },
      "outputs": [],
      "source": [
        "class ConvVaeEncoder(hk.Module):\n",
        "    def __init__(self):\n",
        "        super().__init__()\n",
        "        self.padding = 'VALID'\n",
        "        self.fc_size = 32\n",
        "        self.key = jax.random.PRNGKey(seed=42)\n",
        "\n",
        "    def __call__(self, x):\n",
        "        # Input is 64x64x1\n",
        "        # 1. relu conv, out_channels=32, kernel_size=4, stride=2\n",
        "        # 2. relu conv, out_channels=64, kernel_size=4, stride=2\n",
        "        # 3. relu conv, out_channels=128, kernel_size=4, stride=2\n",
        "        # 4. relu conv, out_channels=256, kernel_size=4, stride=2\n",
        "        # Latent vector Z_n = 32\n",
        "        conv1 = hk.Conv2D(32, kernel_shape=4, stride=2, padding=self.padding)(x)\n",
        "        conv1 = jax.nn.relu(conv1)\n",
        "        conv2 = hk.Conv2D(64, kernel_shape=4, stride=2, padding=self.padding)(conv1)\n",
        "        conv2 = jax.nn.relu(conv2)\n",
        "        conv3 = hk.Conv2D(128, kernel_shape=4, stride=2, padding=self.padding)(conv2)\n",
        "        conv3 = jax.nn.relu(conv3)\n",
        "        conv4 = hk.Conv2D(256, kernel_shape=4, stride=2, padding=self.padding)(conv3)\n",
        "        conv4 = jax.nn.relu(conv4)\n",
        "        # Flattens on everything except batch dimension\n",
        "        fc_in = hk.Flatten(preserve_dims=1)(conv4)\n",
        "\n",
        "        mu = hk.Linear(self.fc_size)(fc_in)\n",
        "        logsigma = hk.Linear(self.fc_size)(fc_in)\n",
        "        \n",
        "        return mu, logsigma\n",
        "\n",
        "class ConvVaeDecoder(hk.Module):\n",
        "    def __init__(self):\n",
        "        super().__init__()\n",
        "        self.padding = 'VALID'\n",
        "    \n",
        "    def __call__(self, x):\n",
        "        # (H, W, C)\n",
        "        # Input is 32\n",
        "        # 1. relu deconv, out_channels=128, kernel_size=5, stride=2\n",
        "        # 2. relu deconv, out_channels=64, kernel_size=5, stride=2\n",
        "        # 3. relu deconv, out_channels=32, kernel_size=6, stride=2\n",
        "        # 4. sigmoid deconv, out_channels=1, kernel_size=6, stride=2\n",
        "        fc = hk.Linear(1024)(x)\n",
        "        fc = fc.reshape(-1, 1, 1, 1024)\n",
        "        conv1 = hk.Conv2DTranspose(128, kernel_shape=5, stride=2, padding=self.padding)(fc)\n",
        "        conv1 = jax.nn.relu(conv1)\n",
        "        conv2 = hk.Conv2DTranspose(64, kernel_shape=5, stride=2, padding=self.padding)(conv1)\n",
        "        conv2 = jax.nn.relu(conv2)\n",
        "        conv3 = hk.Conv2DTranspose(32, kernel_shape=6, stride=2, padding=self.padding)(conv2)\n",
        "        conv3 = jax.nn.relu(conv3)\n",
        "        conv4 = hk.Conv2DTranspose(1, kernel_shape=6, stride=2, padding=self.padding)(conv3)\n",
        "        conv4 = jax.nn.sigmoid(conv4)\n",
        "        return conv4\n",
        "\n",
        "class ConvVAE(hk.Module):\n",
        "    '''\n",
        "    Vision model is a variational autoencoder\n",
        "    '''\n",
        "    def __init__(self):\n",
        "        super().__init__()\n",
        "        self.encoder = ConvVaeEncoder()\n",
        "        self.decoder = ConvVaeDecoder()\n",
        "\n",
        "    def __call__(self, x):\n",
        "        mu, logsigma = self.encoder(x)\n",
        "        sigma = jnp.exp(logsigma)\n",
        "        eps = jax.random.normal(jax.random.PRNGKey(42), sigma.shape)\n",
        "        z = sigma * eps + mu\n",
        "        decoded = self.decoder(z)\n",
        "        return mu, logsigma, decoded"
      ]
    },
    {
      "cell_type": "code",
      "source": [
        "class TrainingState(NamedTuple):\n",
        "    params: hk.Params\n",
        "    opt_state: optax.OptState\n",
        "\n",
        "def main():\n",
        "\n",
        "    def model(x):\n",
        "        model = ConvVAE()\n",
        "        mu, std, decoded = model(x)\n",
        "        return mu, std, decoded\n",
        "\n",
        "    @jax.jit\n",
        "    def loss_fn(params, inputs):\n",
        "        ''' \n",
        "        L2 distance between the input image and the reconstruction in addition to KL loss.\n",
        "        '''\n",
        "        mu, logsigma, decoded = model.apply(params, inputs)\n",
        "        l2 = jnp.mean(optax.l2_loss(decoded, inputs))\n",
        "        kld = -0.5 * jnp.sum(1 + 2 * logsigma - jnp.power(mu, 2) - jnp.exp((2 * logsigma)))\n",
        "        return l2 + kld, (decoded)\n",
        "    \n",
        "    optimizer = optax.adam(3e-4)\n",
        "\n",
        "    @jax.jit\n",
        "    def update_weights(state, inputs):\n",
        "        grad_fn = jax.value_and_grad(loss_fn, argnums=0, has_aux=True)\n",
        "        (loss, image), grads = grad_fn(state.params, inputs)\n",
        "        updates, opt_state = optimizer.update(grads, state.opt_state)\n",
        "        params = optax.apply_updates(state.params, updates)\n",
        "        return TrainingState(params=params, opt_state=opt_state), (loss, image)\n",
        "\n",
        "    model = hk.without_apply_rng(hk.transform(model))\n",
        "    \n",
        "    for i in train_loader:\n",
        "        init_image = i[0].numpy()\n",
        "        B, C, H, W = init_image.shape\n",
        "        init_image = init_image.reshape(B, H, W, C)\n",
        "        break\n",
        "    \n",
        "    rng_key = jax.random.PRNGKey(42)\n",
        "    initial_params = model.init(rng_key, init_image)\n",
        "    initial_opt_state = optimizer.init(initial_params)\n",
        "    state = TrainingState(initial_params, initial_opt_state)\n",
        "\n",
        "    for i in range(10):\n",
        "        loss = 0\n",
        "        for image, y in train_loader:\n",
        "            image = image.reshape(B, H, W, C)\n",
        "            state, (l, image) = update_weights(state, image.numpy())\n",
        "            print(l)\n",
        "            loss += l\n",
        "        print(loss)\n",
        "\n",
        "    image = init_image[0]\n",
        "    mu, std, decoded = model.apply(state.params, jnp.expand_dims(image, dim=0))\n",
        "\n",
        "    plt.figure()\n",
        "    plt.imshow(jnp.squeeze(decoded))\n",
        "    plt.show()"
      ],
      "metadata": {
        "id": "lJuoNeYVBPzi"
      },
      "execution_count": null,
      "outputs": []
    },
    {
      "cell_type": "code",
      "source": [
        "main()"
      ],
      "metadata": {
        "id": "MvSpEEHAAcR3"
      },
      "execution_count": null,
      "outputs": []
    }
  ]
}